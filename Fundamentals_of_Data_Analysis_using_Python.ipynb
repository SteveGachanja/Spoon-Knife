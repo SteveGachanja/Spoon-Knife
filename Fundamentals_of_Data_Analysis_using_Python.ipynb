{
  "nbformat": 4,
  "nbformat_minor": 0,
  "metadata": {
    "colab": {
      "name": "Fundamentals of Data Analysis using Python.ipynb",
      "provenance": [],
      "collapsed_sections": [
        "HgS5bSY2G21c",
        "22yzbH7vDEbh",
        "ooDEI3--Fkky",
        "O54gIIfrKn4C",
        "2qQt7cRRYJXa",
        "vDTz9tj4bx-K",
        "LjLjsVTqWwFI",
        "GgJQecANeKVO",
        "kVv9wwAfuFoz",
        "-QuYjsewpWVT"
      ],
      "authorship_tag": "ABX9TyP6Zfqfjf3v17+xJGd3pVtT",
      "include_colab_link": true
    },
    "kernelspec": {
      "name": "python3",
      "display_name": "Python 3"
    }
  },
  "cells": [
    {
      "cell_type": "markdown",
      "metadata": {
        "id": "view-in-github",
        "colab_type": "text"
      },
      "source": [
        "<a href=\"https://colab.research.google.com/github/SteveGachanja/Spoon-Knife/blob/test-branch/Fundamentals_of_Data_Analysis_using_Python.ipynb\" target=\"_parent\"><img src=\"https://colab.research.google.com/assets/colab-badge.svg\" alt=\"Open In Colab\"/></a>"
      ]
    },
    {
      "cell_type": "markdown",
      "metadata": {
        "id": "HgS5bSY2G21c"
      },
      "source": [
        "# While Loop\r\n",
        "---\r\n",
        "\r\n",
        "\r\n"
      ]
    },
    {
      "cell_type": "code",
      "metadata": {
        "id": "UbCV_AY_GSM5",
        "colab": {
          "base_uri": "https://localhost:8080/"
        },
        "outputId": "b4f2f7ea-f620-4a51-c032-b345b99d4f8a"
      },
      "source": [
        "#indentation is part of the loop.\r\n",
        "counter = 0\r\n",
        "while counter <= 5:\r\n",
        "  print(counter)\r\n",
        "  counter = counter +1\r\n",
        "print(\"Hello Steve\")"
      ],
      "execution_count": 1,
      "outputs": [
        {
          "output_type": "stream",
          "text": [
            "0\n",
            "1\n",
            "2\n",
            "3\n",
            "4\n",
            "5\n",
            "Hello Steve\n"
          ],
          "name": "stdout"
        }
      ]
    },
    {
      "cell_type": "markdown",
      "metadata": {
        "id": "22yzbH7vDEbh"
      },
      "source": [
        "# For Loop\r\n",
        "---\r\n",
        "\r\n",
        "\r\n"
      ]
    },
    {
      "cell_type": "code",
      "metadata": {
        "colab": {
          "base_uri": "https://localhost:8080/"
        },
        "id": "-zK4_C5jDa1m",
        "outputId": "c9a79311-6462-4893-c2cf-8f0375f6e7eb"
      },
      "source": [
        "y=range(5)\r\n",
        "list(y)"
      ],
      "execution_count": 2,
      "outputs": [
        {
          "output_type": "execute_result",
          "data": {
            "text/plain": [
              "[0, 1, 2, 3, 4]"
            ]
          },
          "metadata": {
            "tags": []
          },
          "execution_count": 2
        }
      ]
    },
    {
      "cell_type": "code",
      "metadata": {
        "colab": {
          "base_uri": "https://localhost:8080/"
        },
        "id": "ehofXaO4_Jpq",
        "outputId": "d991a2c9-8d99-4b80-f1c5-40a715fcd93b"
      },
      "source": [
        "#indentation is part of the loop.\r\n",
        "for x in range(3):\r\n",
        "  print(\"Hello Steve Gachanja\", x)"
      ],
      "execution_count": 3,
      "outputs": [
        {
          "output_type": "stream",
          "text": [
            "Hello Steve Gachanja 0\n",
            "Hello Steve Gachanja 1\n",
            "Hello Steve Gachanja 2\n"
          ],
          "name": "stdout"
        }
      ]
    },
    {
      "cell_type": "markdown",
      "metadata": {
        "id": "ooDEI3--Fkky"
      },
      "source": [
        "# If Statement Loop\r\n",
        "---\r\n",
        "\r\n",
        "\r\n"
      ]
    },
    {
      "cell_type": "code",
      "metadata": {
        "id": "P_DPwIrgG7a8"
      },
      "source": [
        "# We have imported randn Function , from the Numpy Package\r\n",
        "from numpy.random import randn"
      ],
      "execution_count": 4,
      "outputs": []
    },
    {
      "cell_type": "code",
      "metadata": {
        "colab": {
          "base_uri": "https://localhost:8080/"
        },
        "id": "roWF9KprFwOt",
        "outputId": "931fef6a-c55c-455b-9482-90af5b83af0d"
      },
      "source": [
        "randn()"
      ],
      "execution_count": 5,
      "outputs": [
        {
          "output_type": "execute_result",
          "data": {
            "text/plain": [
              "0.7834777611822771"
            ]
          },
          "metadata": {
            "tags": []
          },
          "execution_count": 5
        }
      ]
    },
    {
      "cell_type": "code",
      "metadata": {
        "colab": {
          "base_uri": "https://localhost:8080/"
        },
        "id": "kwswDncUHRYG",
        "outputId": "7e460a03-d8b9-46cd-a6ff-509132b6e8c0"
      },
      "source": [
        "# -- -2 --- -1 ---- 0 ----- 1 ----- 2\r\n",
        "answer = None  # sets value as if counter = 0\r\n",
        "x = randn()\r\n",
        "if x > 1:\r\n",
        "  answer = \"Greater than 1\"\r\n",
        "elif x >= -1:\r\n",
        "  answer = \"Between -1 and 1\"\r\n",
        "else:\r\n",
        "  answer = \"Less than -1\"\r\n",
        "print(x)\r\n",
        "print(answer)"
      ],
      "execution_count": 6,
      "outputs": [
        {
          "output_type": "stream",
          "text": [
            "-0.5228664232802228\n",
            "Between -1 and 1\n"
          ],
          "name": "stdout"
        }
      ]
    },
    {
      "cell_type": "markdown",
      "metadata": {
        "id": "O54gIIfrKn4C"
      },
      "source": [
        "#Law of Large Numbers"
      ]
    },
    {
      "cell_type": "code",
      "metadata": {
        "colab": {
          "base_uri": "https://localhost:8080/"
        },
        "id": "duH6HwPrKuZB",
        "outputId": "f106352a-a352-4c81-dedd-7cdaf9730b10"
      },
      "source": [
        "y = 10000000\r\n",
        "counter = 0\r\n",
        "for x in randn(y):\r\n",
        "  if (x > -1 and x < 1):\r\n",
        "    counter = counter +1\r\n",
        "counter/y"
      ],
      "execution_count": 7,
      "outputs": [
        {
          "output_type": "execute_result",
          "data": {
            "text/plain": [
              "0.6828329"
            ]
          },
          "metadata": {
            "tags": []
          },
          "execution_count": 7
        }
      ]
    },
    {
      "cell_type": "code",
      "metadata": {
        "colab": {
          "base_uri": "https://localhost:8080/"
        },
        "id": "FHl_DHSOLRmN",
        "outputId": "7c55bfb6-e585-4599-bf63-1f3c9b1993b8"
      },
      "source": [
        "y = 10\r\n",
        "counter = 0\r\n",
        "for x in randn(y):\r\n",
        "  if (x > -1 and x < 1):\r\n",
        "    #print(x)\r\n",
        "    counter = counter +1\r\n",
        "counter/y"
      ],
      "execution_count": 8,
      "outputs": [
        {
          "output_type": "execute_result",
          "data": {
            "text/plain": [
              "0.4"
            ]
          },
          "metadata": {
            "tags": []
          },
          "execution_count": 8
        }
      ]
    },
    {
      "cell_type": "markdown",
      "metadata": {
        "id": "2qQt7cRRYJXa"
      },
      "source": [
        "#Working with Lists and Tuples"
      ]
    },
    {
      "cell_type": "code",
      "metadata": {
        "colab": {
          "base_uri": "https://localhost:8080/"
        },
        "id": "wNwFJwyAYOwN",
        "outputId": "ba55745d-ff7a-4166-9c1a-0ed906ef4efa"
      },
      "source": [
        "#------- Lists ---------\r\n",
        "myfirstlist = [3,45,True,\"YES\"]\r\n",
        "read01=list(range(100,115,2))  #A generated list, of 0-115, starting from 100. And spaced evenly using 2. \r\n",
        "#------- Functions ---------\r\n",
        "len(read01)     # Len function provides length/number of values\r\n",
        "max(read01)     # Max function provides max value\r\n",
        "# ------ Slicing -----------\r\n",
        "list(range(100,115,2))   #List generator\r\n",
        "read01[0]=101       #Overwrite the first value [0] , with 101\r\n",
        "read01[-5:-1]       # Slicing values\r\n",
        "read01[::-1]        #Reversing values\r\n",
        "read01[0:5:2]        # Advanced slicing    "
      ],
      "execution_count": 9,
      "outputs": [
        {
          "output_type": "execute_result",
          "data": {
            "text/plain": [
              "[101, 104, 108]"
            ]
          },
          "metadata": {
            "tags": []
          },
          "execution_count": 9
        }
      ]
    },
    {
      "cell_type": "code",
      "metadata": {
        "colab": {
          "base_uri": "https://localhost:8080/"
        },
        "id": "tq25si12dMKL",
        "outputId": "b27d1a64-4d3b-4abf-9d06-c58104668d54"
      },
      "source": [
        "read01[::1] "
      ],
      "execution_count": 10,
      "outputs": [
        {
          "output_type": "execute_result",
          "data": {
            "text/plain": [
              "[101, 102, 104, 106, 108, 110, 112, 114]"
            ]
          },
          "metadata": {
            "tags": []
          },
          "execution_count": 10
        }
      ]
    },
    {
      "cell_type": "code",
      "metadata": {
        "colab": {
          "base_uri": "https://localhost:8080/"
        },
        "id": "2O3MATVkgbTT",
        "outputId": "502e5983-112f-47b1-c817-8b61e99251e2"
      },
      "source": [
        "#TUPLES = An Immutable list . or sequence of values\r\n",
        "myfirsttuple = (3,45,True,\"YES\")\r\n",
        "type(myfirsttuple)\r\n",
        "myfirsttuple[::]"
      ],
      "execution_count": 11,
      "outputs": [
        {
          "output_type": "execute_result",
          "data": {
            "text/plain": [
              "(3, 45, True, 'YES')"
            ]
          },
          "metadata": {
            "tags": []
          },
          "execution_count": 11
        }
      ]
    },
    {
      "cell_type": "markdown",
      "metadata": {
        "id": "vDTz9tj4bx-K"
      },
      "source": [
        "#Arrays and Slicing Arrays"
      ]
    },
    {
      "cell_type": "code",
      "metadata": {
        "id": "BSCCyu4pYARk"
      },
      "source": [
        "#Packages contain Functions\r\n",
        "# Example here, We have imported randn Function , from the Numpy Package\r\n",
        "from numpy.random import randn\r\n",
        "#Arrays have more methods than Lists , and are useful for matrices and tables and Dataframes"
      ],
      "execution_count": 12,
      "outputs": []
    },
    {
      "cell_type": "code",
      "metadata": {
        "id": "RYUsUepxb1Vb",
        "colab": {
          "base_uri": "https://localhost:8080/"
        },
        "outputId": "16923af6-c042-4ac7-c34b-cbaec03b76df"
      },
      "source": [
        "import numpy as np\r\n",
        "a = np.array([12,455,63.3,True,\"abc\",100,50,405.6,\"Steve\"])\r\n",
        "a"
      ],
      "execution_count": 13,
      "outputs": [
        {
          "output_type": "execute_result",
          "data": {
            "text/plain": [
              "array(['12', '455', '63.3', 'True', 'abc', '100', '50', '405.6', 'Steve'],\n",
              "      dtype='<U32')"
            ]
          },
          "metadata": {
            "tags": []
          },
          "execution_count": 13
        }
      ]
    },
    {
      "cell_type": "code",
      "metadata": {
        "colab": {
          "base_uri": "https://localhost:8080/"
        },
        "id": "CYMN1WZRqmmr",
        "outputId": "0e85ba5e-025c-4093-a155-d4646f4e66cc"
      },
      "source": [
        "a[::2]              # Slicing of Arrays\r\n",
        "b = a[8:]           # Creating a Slice Copy of an array\r\n",
        "b[0]=\"Gachanja\"     # Reassigning values in arrays\r\n",
        "a\r\n",
        "c = a.copy()        # Making a FUll Copy of an Array , creating a view of an array\r\n",
        "c"
      ],
      "execution_count": 14,
      "outputs": [
        {
          "output_type": "execute_result",
          "data": {
            "text/plain": [
              "array(['12', '455', '63.3', 'True', 'abc', '100', '50', '405.6',\n",
              "       'Gachanja'], dtype='<U32')"
            ]
          },
          "metadata": {
            "tags": []
          },
          "execution_count": 14
        }
      ]
    },
    {
      "cell_type": "markdown",
      "metadata": {
        "id": "LjLjsVTqWwFI"
      },
      "source": [
        "#Working with Arrays and Matrices"
      ]
    },
    {
      "cell_type": "code",
      "metadata": {
        "colab": {
          "base_uri": "https://localhost:8080/"
        },
        "id": "sIbv1Ko8W0kd",
        "outputId": "6275005c-b339-4aa1-97b7-b2c2ef55c2c4"
      },
      "source": [
        "import numpy as np\r\n",
        "mydata = np.arange(0,20)           #Generating numbers into an array\r\n",
        "#MATR1 = np.reshape(mydata, (5,4))  # Note : default is opposite to R, in how it will populate the Matrix\r\n",
        "MATR1 = mydata.reshape((5,4))       #Same as Calling a function from within the object # Object Oriented Programming\r\n",
        "MATR1                           "
      ],
      "execution_count": 15,
      "outputs": [
        {
          "output_type": "execute_result",
          "data": {
            "text/plain": [
              "array([[ 0,  1,  2,  3],\n",
              "       [ 4,  5,  6,  7],\n",
              "       [ 8,  9, 10, 11],\n",
              "       [12, 13, 14, 15],\n",
              "       [16, 17, 18, 19]])"
            ]
          },
          "metadata": {
            "tags": []
          },
          "execution_count": 15
        }
      ]
    },
    {
      "cell_type": "code",
      "metadata": {
        "colab": {
          "base_uri": "https://localhost:8080/"
        },
        "id": "bJcRiGPAXuz1",
        "outputId": "2c2fdd76-937f-4d3a-ec10-9545e776ff14"
      },
      "source": [
        "MATR1[2,:]   # Accessing entire Row [2]\r\n",
        "MATR1[2,2]"
      ],
      "execution_count": 16,
      "outputs": [
        {
          "output_type": "execute_result",
          "data": {
            "text/plain": [
              "10"
            ]
          },
          "metadata": {
            "tags": []
          },
          "execution_count": 16
        }
      ]
    },
    {
      "cell_type": "code",
      "metadata": {
        "colab": {
          "base_uri": "https://localhost:8080/"
        },
        "id": "lw2tB8GabG6R",
        "outputId": "44d72013-98bf-43b5-92cc-911cc4e574bd"
      },
      "source": [
        "r1 = [\"I\", \"am\",\"happy\"]\r\n",
        "r2 = [\"what\", \"a\", \"day\"]\r\n",
        "r3 = [1,2,3]\r\n",
        "newMatrix = np.array([r1, r2, r3])   # Retuens all elements as a \"String\"\r\n",
        "newMatrix"
      ],
      "execution_count": 17,
      "outputs": [
        {
          "output_type": "execute_result",
          "data": {
            "text/plain": [
              "array([['I', 'am', 'happy'],\n",
              "       ['what', 'a', 'day'],\n",
              "       ['1', '2', '3']], dtype='<U5')"
            ]
          },
          "metadata": {
            "tags": []
          },
          "execution_count": 17
        }
      ]
    },
    {
      "cell_type": "markdown",
      "metadata": {
        "id": "GgJQecANeKVO"
      },
      "source": [
        "#Dictionaries"
      ]
    },
    {
      "cell_type": "code",
      "metadata": {
        "colab": {
          "base_uri": "https://localhost:8080/"
        },
        "id": "d8VDWIrZfS38",
        "outputId": "d4b70a00-475d-4c38-8294-695aa2e2f625"
      },
      "source": [
        "#Dictionary = {\"key1\":\"value1\" , \"key2\":\"value2\" , \"key3\":\"value3\" }\r\n",
        "# Acccesing values using their keys\r\n",
        "Dictionary = {\"key1\":\"value1\" , \"key2\":True , \"key3\":3 }\r\n",
        "Dictionary[\"key2\"]"
      ],
      "execution_count": 18,
      "outputs": [
        {
          "output_type": "execute_result",
          "data": {
            "text/plain": [
              "True"
            ]
          },
          "metadata": {
            "tags": []
          },
          "execution_count": 18
        }
      ]
    },
    {
      "cell_type": "code",
      "metadata": {
        "id": "ueaTnjXkeOBt"
      },
      "source": [
        "#Points\r\n",
        "KobeBryant_PTS = [2832,2430,2323,2201,1970,2078,1616,2133,83,782]\r\n",
        "JoeJohnson_PTS = [1653,1426,1779,1688,1619,1312,1129,1170,1245,1154]\r\n",
        "LeBronJames_PTS = [2478,2132,2250,2304,2258,2111,1683,2036,2089,1743]\r\n",
        "CarmeloAnthony_PTS = [2122,1881,1978,1504,1943,1970,1245,1920,2112,966]\r\n",
        "DwightHoward_PTS = [1292,1443,1695,1624,1503,1784,1113,1296,1297,646]\r\n",
        "ChrisBosh_PTS = [1572,1561,1496,1746,1678,1438,1025,1232,1281,928]\r\n",
        "ChrisPaul_PTS = [1258,1104,1684,1781,841,1268,1189,1186,1185,1564]\r\n",
        "KevinDurant_PTS = [903,903,1624,1871,2472,2161,1850,2280,2593,686]\r\n",
        "DerrickRose_PTS = [597,597,597,1361,1619,2026,852,0,159,904]\r\n",
        "DwayneWade_PTS = [2040,1397,1254,2386,2045,1941,1082,1463,1028,1331]\r\n",
        "\r\n",
        "#Matrix\r\n",
        "Points = np.array([KobeBryant_PTS, JoeJohnson_PTS, LeBronJames_PTS, CarmeloAnthony_PTS, DwightHoward_PTS, ChrisBosh_PTS, ChrisPaul_PTS, KevinDurant_PTS, DerrickRose_PTS, DwayneWade_PTS])             \r\n",
        "\r\n",
        "#Players\r\n",
        "Players = [\"KobeBryant\",\"JoeJohnson\",\"LeBronJames\",\"CarmeloAnthony\",\"DwightHoward\",\"ChrisBosh\",\"ChrisPaul\",\"KevinDurant\",\"DerrickRose\",\"DwayneWade\"]\r\n",
        "Pdict = {\"KobeBryant\":0,\"JoeJohnson\":1,\"LeBronJames\":2,\"CarmeloAnthony\":3,\"DwightHoward\":4,\"ChrisBosh\":5,\"ChrisPaul\":6,\"KevinDurant\":7,\"DerrickRose\":8,\"DwayneWade\":9}\r\n",
        "\r\n",
        "#Seasons\r\n",
        "Seasons = [\"2005\",\"2006\",\"2007\",\"2008\",\"2009\",\"2010\",\"2011\",\"2012\",\"2013\",\"2014\"]\r\n",
        "Sdict = {\"2005\":0,\"2006\":1,\"2007\":2,\"2008\":3,\"2009\":4,\"2010\":5,\"2011\":6,\"2012\":7,\"2013\":8,\"2014\":9}\r\n",
        "\r\n"
      ],
      "execution_count": 19,
      "outputs": []
    },
    {
      "cell_type": "code",
      "metadata": {
        "colab": {
          "base_uri": "https://localhost:8080/"
        },
        "id": "y88Bw3wqfDYA",
        "outputId": "7565a721-c044-445c-8c50-198b30494c8f"
      },
      "source": [
        "Points[0,:]   # Accessing Kobe's points without a Dictionary\r\n",
        "Pdict[\"KobeBryant\"]\r\n",
        "Points[Pdict[\"KobeBryant\"]]"
      ],
      "execution_count": 20,
      "outputs": [
        {
          "output_type": "execute_result",
          "data": {
            "text/plain": [
              "array([2832, 2430, 2323, 2201, 1970, 2078, 1616, 2133,   83,  782])"
            ]
          },
          "metadata": {
            "tags": []
          },
          "execution_count": 20
        }
      ]
    },
    {
      "cell_type": "code",
      "metadata": {
        "colab": {
          "base_uri": "https://localhost:8080/"
        },
        "id": "QLIPdwfnlCwu",
        "outputId": "baf31d6a-08fb-4242-9e55-f931d197697e"
      },
      "source": [
        "Points[Pdict[\"KobeBryant\"]][Sdict[\"2006\"]]"
      ],
      "execution_count": 21,
      "outputs": [
        {
          "output_type": "execute_result",
          "data": {
            "text/plain": [
              "2430"
            ]
          },
          "metadata": {
            "tags": []
          },
          "execution_count": 21
        }
      ]
    },
    {
      "cell_type": "code",
      "metadata": {
        "id": "sN4AmOLwkLg4"
      },
      "source": [
        "#Games \r\n",
        "KobeBryant_G = [80,77,82,82,73,82,58,78,6,35]\r\n",
        "JoeJohnson_G = [82,57,82,79,76,72,60,72,79,80]\r\n",
        "LeBronJames_G = [79,78,75,81,76,79,62,76,77,69]\r\n",
        "CarmeloAnthony_G = [80,65,77,66,69,77,55,67,77,40]\r\n",
        "DwightHoward_G = [82,82,82,79,82,78,54,76,71,41]\r\n",
        "ChrisBosh_G = [70,69,67,77,70,77,57,74,79,44]\r\n",
        "ChrisPaul_G = [78,64,80,78,45,80,60,70,62,82]\r\n",
        "KevinDurant_G = [35,35,80,74,82,78,66,81,81,27]\r\n",
        "DerrickRose_G = [40,40,40,81,78,81,39,0,10,51]\r\n",
        "DwayneWade_G = [75,51,51,79,77,76,49,69,54,62]\r\n",
        "#Matrix\r\n",
        "Games = np.array([KobeBryant_G, JoeJohnson_G, LeBronJames_G, CarmeloAnthony_G, DwightHoward_G, ChrisBosh_G, ChrisPaul_G, KevinDurant_G, DerrickRose_G, DwayneWade_G])\r\n"
      ],
      "execution_count": 22,
      "outputs": []
    },
    {
      "cell_type": "code",
      "metadata": {
        "colab": {
          "base_uri": "https://localhost:8080/"
        },
        "id": "GTR94kUskZZQ",
        "outputId": "3ad92794-81e9-4018-de93-e2a728375414"
      },
      "source": [
        "Games[8][9]\r\n",
        "Games[Pdict[\"DerrickRose\"]][Sdict[\"2014\"]]\r\n"
      ],
      "execution_count": 23,
      "outputs": [
        {
          "output_type": "execute_result",
          "data": {
            "text/plain": [
              "51"
            ]
          },
          "metadata": {
            "tags": []
          },
          "execution_count": 23
        }
      ]
    },
    {
      "cell_type": "markdown",
      "metadata": {
        "id": "kVv9wwAfuFoz"
      },
      "source": [
        "#Matrix Operations"
      ]
    },
    {
      "cell_type": "code",
      "metadata": {
        "id": "bprSu36zuMI4"
      },
      "source": [
        "#Field Goals\r\n",
        "KobeBryant_FG = [978,813,775,800,716,740,574,738,31,266]\r\n",
        "JoeJohnson_FG = [632,536,647,620,635,514,423,445,462,446]\r\n",
        "LeBronJames_FG = [875,772,794,789,768,758,621,765,767,624]\r\n",
        "CarmeloAnthony_FG = [756,691,728,535,688,684,441,669,743,358]\r\n",
        "DwightHoward_FG = [468,526,583,560,510,619,416,470,473,251]\r\n",
        "ChrisBosh_FG = [549,543,507,615,600,524,393,485,492,343]\r\n",
        "ChrisPaul_FG = [407,381,630,631,314,430,425,412,406,568]\r\n",
        "KevinDurant_FG = [306,306,587,661,794,711,643,731,849,238]\r\n",
        "DerrickRose_FG = [208,208,208,574,672,711,302,0,58,338]\r\n",
        "DwayneWade_FG = [699,472,439,854,719,692,416,569,415,509]\r\n",
        "#Matrix\r\n",
        "FieldGoals  = np.array([KobeBryant_FG, JoeJohnson_FG, LeBronJames_FG, CarmeloAnthony_FG, DwightHoward_FG, ChrisBosh_FG, ChrisPaul_FG, KevinDurant_FG, DerrickRose_FG, DwayneWade_FG])\r\n",
        "\r\n",
        "#Games \r\n",
        "KobeBryant_G = [80,77,82,82,73,82,58,78,6,35]\r\n",
        "JoeJohnson_G = [82,57,82,79,76,72,60,72,79,80]\r\n",
        "LeBronJames_G = [79,78,75,81,76,79,62,76,77,69]\r\n",
        "CarmeloAnthony_G = [80,65,77,66,69,77,55,67,77,40]\r\n",
        "DwightHoward_G = [82,82,82,79,82,78,54,76,71,41]\r\n",
        "ChrisBosh_G = [70,69,67,77,70,77,57,74,79,44]\r\n",
        "ChrisPaul_G = [78,64,80,78,45,80,60,70,62,82]\r\n",
        "KevinDurant_G = [35,35,80,74,82,78,66,81,81,27]\r\n",
        "DerrickRose_G = [40,40,40,81,78,81,39,0,10,51]\r\n",
        "DwayneWade_G = [75,51,51,79,77,76,49,69,54,62]\r\n",
        "#Matrix\r\n",
        "Games = np.array([KobeBryant_G, JoeJohnson_G, LeBronJames_G, CarmeloAnthony_G, DwightHoward_G, ChrisBosh_G, ChrisPaul_G, KevinDurant_G, DerrickRose_G, DwayneWade_G])"
      ],
      "execution_count": 24,
      "outputs": []
    },
    {
      "cell_type": "code",
      "metadata": {
        "colab": {
          "base_uri": "https://localhost:8080/"
        },
        "id": "69GvUJE5zkbR",
        "outputId": "41c0b382-7e0e-4ede-cdf2-c9be13a0e801"
      },
      "source": [
        "# To do Matrix Operations , they have to be of the same size dimension\r\n",
        "import warnings\r\n",
        "warnings.filterwarnings('ignore')\r\n",
        "FieldGoalsPerGame=np.matrix.round(FieldGoals / Games , 1)   # Average FieldGoals per Game\r\n",
        "FieldGoalsPerGame"
      ],
      "execution_count": 25,
      "outputs": [
        {
          "output_type": "execute_result",
          "data": {
            "text/plain": [
              "array([[12.2, 10.6,  9.5,  9.8,  9.8,  9. ,  9.9,  9.5,  5.2,  7.6],\n",
              "       [ 7.7,  9.4,  7.9,  7.8,  8.4,  7.1,  7. ,  6.2,  5.8,  5.6],\n",
              "       [11.1,  9.9, 10.6,  9.7, 10.1,  9.6, 10. , 10.1, 10. ,  9. ],\n",
              "       [ 9.4, 10.6,  9.5,  8.1, 10. ,  8.9,  8. , 10. ,  9.6,  9. ],\n",
              "       [ 5.7,  6.4,  7.1,  7.1,  6.2,  7.9,  7.7,  6.2,  6.7,  6.1],\n",
              "       [ 7.8,  7.9,  7.6,  8. ,  8.6,  6.8,  6.9,  6.6,  6.2,  7.8],\n",
              "       [ 5.2,  6. ,  7.9,  8.1,  7. ,  5.4,  7.1,  5.9,  6.5,  6.9],\n",
              "       [ 8.7,  8.7,  7.3,  8.9,  9.7,  9.1,  9.7,  9. , 10.5,  8.8],\n",
              "       [ 5.2,  5.2,  5.2,  7.1,  8.6,  8.8,  7.7,  nan,  5.8,  6.6],\n",
              "       [ 9.3,  9.3,  8.6, 10.8,  9.3,  9.1,  8.5,  8.2,  7.7,  8.2]])"
            ]
          },
          "metadata": {
            "tags": []
          },
          "execution_count": 25
        }
      ]
    },
    {
      "cell_type": "code",
      "metadata": {
        "colab": {
          "base_uri": "https://localhost:8080/"
        },
        "id": "gqe0d8BsA6EF",
        "outputId": "61574c3d-bf69-4e69-f293-1af41c9bd257"
      },
      "source": [
        "FieldGoalsPerGame[Pdict[\"KobeBryant\"]][Sdict[\"2014\"]]"
      ],
      "execution_count": 26,
      "outputs": [
        {
          "output_type": "execute_result",
          "data": {
            "text/plain": [
              "7.6"
            ]
          },
          "metadata": {
            "tags": []
          },
          "execution_count": 26
        }
      ]
    },
    {
      "cell_type": "markdown",
      "metadata": {
        "id": "-QuYjsewpWVT"
      },
      "source": [
        "#Home_Work_Solution - Python Fundamentals"
      ]
    },
    {
      "cell_type": "code",
      "metadata": {
        "id": "ZkVnQy9tpjKN"
      },
      "source": [
        "#Data \r\n",
        "revenue = [14574.49, 7606.46, 8611.41, 9175.41, 8058.65, 8105.44, 11496.28, 9766.09, 10305.32, 14379.96, 10713.97, 15433.50]\r\n",
        "expenses = [12051.82, 5695.07, 12319.20, 12089.72, 8658.57, 840.20, 3285.73, 5821.12, 6976.93, 16618.61, 10054.37, 3803.96]"
      ],
      "execution_count": 27,
      "outputs": []
    },
    {
      "cell_type": "code",
      "metadata": {
        "colab": {
          "base_uri": "https://localhost:8080/"
        },
        "id": "4XceN5aopmmN",
        "outputId": "105b74ab-0870-43fd-9337-d4d7943fd5b3"
      },
      "source": [
        "#Calcultating Profit ( Revenue - Expenses)\r\n",
        "profit = list([])\r\n",
        "for i in range (0, len(revenue)):\r\n",
        "  profit.append(revenue[i]-expenses[i])\r\n",
        "profit"
      ],
      "execution_count": 28,
      "outputs": [
        {
          "output_type": "execute_result",
          "data": {
            "text/plain": [
              "[2522.67,\n",
              " 1911.3900000000003,\n",
              " -3707.790000000001,\n",
              " -2914.3099999999995,\n",
              " -599.9200000000001,\n",
              " 7265.24,\n",
              " 8210.550000000001,\n",
              " 3944.9700000000003,\n",
              " 3328.3899999999994,\n",
              " -2238.6500000000015,\n",
              " 659.5999999999985,\n",
              " 11629.54]"
            ]
          },
          "metadata": {
            "tags": []
          },
          "execution_count": 28
        }
      ]
    },
    {
      "cell_type": "code",
      "metadata": {
        "colab": {
          "base_uri": "https://localhost:8080/"
        },
        "id": "gWYgd-kHrMfx",
        "outputId": "91332d30-7495-4460-81ba-9b064e0e3040"
      },
      "source": [
        "#Calculating tax (Profit * 30 %)\r\n",
        "tax = [round(i * 0.3, 2) for i in profit]\r\n",
        "tax"
      ],
      "execution_count": 29,
      "outputs": [
        {
          "output_type": "execute_result",
          "data": {
            "text/plain": [
              "[756.8,\n",
              " 573.42,\n",
              " -1112.34,\n",
              " -874.29,\n",
              " -179.98,\n",
              " 2179.57,\n",
              " 2463.17,\n",
              " 1183.49,\n",
              " 998.52,\n",
              " -671.6,\n",
              " 197.88,\n",
              " 3488.86]"
            ]
          },
          "metadata": {
            "tags": []
          },
          "execution_count": 29
        }
      ]
    },
    {
      "cell_type": "code",
      "metadata": {
        "colab": {
          "base_uri": "https://localhost:8080/"
        },
        "id": "j9v67LU5r1p3",
        "outputId": "0a8dcac6-c154-4bc1-c56d-78a4d09e6707"
      },
      "source": [
        "#Profit after tax, [Profit - 30%Tax]\r\n",
        "profit_after_tax = list([])\r\n",
        "\r\n",
        "for i in range (0, len(profit)):\r\n",
        "  profit_after_tax.append(profit[i]-tax[i])\r\n",
        "profit_after_tax"
      ],
      "execution_count": 30,
      "outputs": [
        {
          "output_type": "execute_result",
          "data": {
            "text/plain": [
              "[1765.8700000000001,\n",
              " 1337.9700000000003,\n",
              " -2595.4500000000007,\n",
              " -2040.0199999999995,\n",
              " -419.94000000000005,\n",
              " 5085.67,\n",
              " 5747.380000000001,\n",
              " 2761.4800000000005,\n",
              " 2329.8699999999994,\n",
              " -1567.0500000000015,\n",
              " 461.71999999999855,\n",
              " 8140.68]"
            ]
          },
          "metadata": {
            "tags": []
          },
          "execution_count": 30
        }
      ]
    },
    {
      "cell_type": "code",
      "metadata": {
        "colab": {
          "base_uri": "https://localhost:8080/"
        },
        "id": "TIdh9cprvKs8",
        "outputId": "7c432fa9-1f7b-4baa-d9c4-2db652d0bf29"
      },
      "source": [
        "#Margin = Profit_after_tax / Revenue\r\n",
        "profit_margin = list([])\r\n",
        "\r\n",
        "for i in range (0, len(profit_after_tax)):\r\n",
        "  profit_margin.append(profit_after_tax[i] / revenue[i])\r\n",
        "\r\n",
        "profit_margin = [round(i*100, 2) for i in profit_margin]\r\n",
        "profit_margin"
      ],
      "execution_count": 31,
      "outputs": [
        {
          "output_type": "execute_result",
          "data": {
            "text/plain": [
              "[12.12,\n",
              " 17.59,\n",
              " -30.14,\n",
              " -22.23,\n",
              " -5.21,\n",
              " 62.74,\n",
              " 49.99,\n",
              " 28.28,\n",
              " 22.61,\n",
              " -10.9,\n",
              " 4.31,\n",
              " 52.75]"
            ]
          },
          "metadata": {
            "tags": []
          },
          "execution_count": 31
        }
      ]
    },
    {
      "cell_type": "code",
      "metadata": {
        "colab": {
          "base_uri": "https://localhost:8080/"
        },
        "id": "CfS9ESQex5_f",
        "outputId": "49ee2db4-d83a-4a1c-feac-1e06aeda603b"
      },
      "source": [
        "# Profit_after_tax mean\r\n",
        "mean_Profit_after_tax = sum(profit_after_tax) / len(profit_after_tax)\r\n",
        "mean_Profit_after_tax"
      ],
      "execution_count": 32,
      "outputs": [
        {
          "output_type": "execute_result",
          "data": {
            "text/plain": [
              "1750.6816666666666"
            ]
          },
          "metadata": {
            "tags": []
          },
          "execution_count": 32
        }
      ]
    },
    {
      "cell_type": "code",
      "metadata": {
        "colab": {
          "base_uri": "https://localhost:8080/"
        },
        "id": "xaL5voeP1eko",
        "outputId": "81c9fc0d-f2b8-4f7d-c557-5d0fc1e1303e"
      },
      "source": [
        "good_months = list([])\r\n",
        "\r\n",
        "for i in range(0, len(profit)):\r\n",
        "  good_months.append(profit_after_tax[i] > mean_Profit_after_tax)\r\n",
        "\r\n",
        "good_months"
      ],
      "execution_count": 33,
      "outputs": [
        {
          "output_type": "execute_result",
          "data": {
            "text/plain": [
              "[True, False, False, False, False, True, True, True, True, False, False, True]"
            ]
          },
          "metadata": {
            "tags": []
          },
          "execution_count": 33
        }
      ]
    },
    {
      "cell_type": "code",
      "metadata": {
        "colab": {
          "base_uri": "https://localhost:8080/"
        },
        "id": "z1q6glpj2ggg",
        "outputId": "86a61dd3-3d4f-475c-a9c5-9ac4734ad6c8"
      },
      "source": [
        "best_month = list([])\r\n",
        "\r\n",
        "for i in range(0, len(profit)):\r\n",
        "  best_month.append(profit_after_tax[i] == max(profit_after_tax))\r\n",
        "\r\n",
        "best_month"
      ],
      "execution_count": 34,
      "outputs": [
        {
          "output_type": "execute_result",
          "data": {
            "text/plain": [
              "[False,\n",
              " False,\n",
              " False,\n",
              " False,\n",
              " False,\n",
              " False,\n",
              " False,\n",
              " False,\n",
              " False,\n",
              " False,\n",
              " False,\n",
              " True]"
            ]
          },
          "metadata": {
            "tags": []
          },
          "execution_count": 34
        }
      ]
    },
    {
      "cell_type": "code",
      "metadata": {
        "colab": {
          "base_uri": "https://localhost:8080/"
        },
        "id": "6feeJGBp5fDA",
        "outputId": "efcad5d4-49c2-44ff-9e85-5abcf5a09212"
      },
      "source": [
        "worst_month = list([])\r\n",
        "\r\n",
        "for i in range(0, len(profit)):\r\n",
        "  worst_month.append(profit_after_tax[i] == min(profit_after_tax))\r\n",
        "\r\n",
        "worst_month"
      ],
      "execution_count": 35,
      "outputs": [
        {
          "output_type": "execute_result",
          "data": {
            "text/plain": [
              "[False,\n",
              " False,\n",
              " True,\n",
              " False,\n",
              " False,\n",
              " False,\n",
              " False,\n",
              " False,\n",
              " False,\n",
              " False,\n",
              " False,\n",
              " False]"
            ]
          },
          "metadata": {
            "tags": []
          },
          "execution_count": 35
        }
      ]
    },
    {
      "cell_type": "code",
      "metadata": {
        "id": "T7Ad1eBS3Gpi"
      },
      "source": [
        "revenue_1000 = [round(i/1000, 2) for i in revenue]\r\n",
        "expenses_1000 = [round(i/1000, 2) for i in expenses]\r\n",
        "profit_1000 = [round(i, 2) for i in profit]\r\n",
        "profit_after_tax_1000 = [round(i, 2) for i in profit_after_tax]\r\n",
        "\r\n",
        "revenue_1000 = [int(i) for i in revenue_1000]\r\n",
        "expenses_1000 = [int(i) for i in expenses_1000]\r\n",
        "profit_1000 = [int(i) for i in profit_1000]\r\n",
        "profit_after_tax_1000 = [int(i) for i in profit_after_tax_1000]"
      ],
      "execution_count": 36,
      "outputs": []
    },
    {
      "cell_type": "code",
      "metadata": {
        "colab": {
          "base_uri": "https://localhost:8080/"
        },
        "id": "OfalZT004Y1L",
        "outputId": "a7c66c33-919e-4657-e3c1-94e9f281b37c"
      },
      "source": [
        "# Print Results\r\n",
        "print(\"Revenue :\" , revenue_1000)\r\n",
        "print(\"Expenses :\" , expenses_1000)\r\n",
        "print(\"Profit :\" , profit_1000)\r\n",
        "print(\"Profit after Tax :\" , profit_after_tax_1000)\r\n",
        "print(\"Profit Margin :\" , profit_margin)\r\n",
        "print(\"Good months:\" , good_months)\r\n",
        "print(\"Best month:\" , best_month)\r\n",
        "print(\"Worst month:\" , worst_month)"
      ],
      "execution_count": 37,
      "outputs": [
        {
          "output_type": "stream",
          "text": [
            "Revenue : [14, 7, 8, 9, 8, 8, 11, 9, 10, 14, 10, 15]\n",
            "Expenses : [12, 5, 12, 12, 8, 0, 3, 5, 6, 16, 10, 3]\n",
            "Profit : [2522, 1911, -3707, -2914, -599, 7265, 8210, 3944, 3328, -2238, 659, 11629]\n",
            "Profit after Tax : [1765, 1337, -2595, -2040, -419, 5085, 5747, 2761, 2329, -1567, 461, 8140]\n",
            "Profit Margin : [12.12, 17.59, -30.14, -22.23, -5.21, 62.74, 49.99, 28.28, 22.61, -10.9, 4.31, 52.75]\n",
            "Good months: [True, False, False, False, False, True, True, True, True, False, False, True]\n",
            "Best month: [False, False, False, False, False, False, False, False, False, False, False, True]\n",
            "Worst month: [False, False, True, False, False, False, False, False, False, False, False, False]\n"
          ],
          "name": "stdout"
        }
      ]
    }
  ]
}