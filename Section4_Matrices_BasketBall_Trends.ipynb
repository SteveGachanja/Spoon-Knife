{
  "nbformat": 4,
  "nbformat_minor": 0,
  "metadata": {
    "colab": {
      "name": "Section4 - Matrices -BasketBall Trends.ipynb",
      "provenance": [],
      "collapsed_sections": [
        "q8XkIh1zGxu3"
      ],
      "authorship_tag": "ABX9TyN4S5YAHynuodlnFjbDUPLH",
      "include_colab_link": true
    },
    "kernelspec": {
      "name": "python3",
      "display_name": "Python 3"
    }
  },
  "cells": [
    {
      "cell_type": "markdown",
      "metadata": {
        "id": "view-in-github",
        "colab_type": "text"
      },
      "source": [
        "<a href=\"https://colab.research.google.com/github/SteveGachanja/Spoon-Knife/blob/test-branch/Section4_Matrices_BasketBall_Trends.ipynb\" target=\"_parent\"><img src=\"https://colab.research.google.com/assets/colab-badge.svg\" alt=\"Open In Colab\"/></a>"
      ]
    },
    {
      "cell_type": "markdown",
      "metadata": {
        "id": "q8XkIh1zGxu3"
      },
      "source": [
        "#Data - BasketBall Trends"
      ]
    },
    {
      "cell_type": "code",
      "metadata": {
        "id": "cC6_XcsJwbGm"
      },
      "source": [
        "# Matrices: ---------------------------------------------------\r\n",
        "# - Salary\r\n",
        "# - Games\r\n",
        "# - MinutesPlayed\r\n",
        "# - FieldGoals\r\n",
        "# - FieldGoalAttempts\r\n",
        "# - Points\r\n",
        "# Lists:\r\n",
        "# - Players\r\n",
        "# - Seasons\r\n",
        "# Dictionaries:\r\n",
        "# - Sdict\r\n",
        "# - Pdict\r\n",
        "#-----------------------------------------------------------------\r\n",
        "#Import numpy\r\n",
        "import numpy as np\r\n",
        "#-----------------------------------------------------------------\r\n",
        "#Seasons\r\n",
        "Seasons = [\"2005\",\"2006\",\"2007\",\"2008\",\"2009\",\"2010\",\"2011\",\"2012\",\"2013\",\"2014\"]\r\n",
        "Sdict = {\"2005\":0,\"2006\":1,\"2007\":2,\"2008\":3,\"2009\":4,\"2010\":5,\"2011\":6,\"2012\":7,\"2013\":8,\"2014\":9}\r\n",
        "\r\n",
        "#Players\r\n",
        "Players = [\"KobeBryant\",\"JoeJohnson\",\"LeBronJames\",\"CarmeloAnthony\",\"DwightHoward\",\"ChrisBosh\",\"ChrisPaul\",\"KevinDurant\",\"DerrickRose\",\"DwayneWade\"]\r\n",
        "Pdict = {\"KobeBryant\":0,\"JoeJohnson\":1,\"LeBronJames\":2,\"CarmeloAnthony\":3,\"DwightHoward\":4,\"ChrisBosh\":5,\"ChrisPaul\":6,\"KevinDurant\":7,\"DerrickRose\":8,\"DwayneWade\":9}\r\n",
        "\r\n",
        "#Salaries\r\n",
        "KobeBryant_Salary = [15946875,17718750,19490625,21262500,23034375,24806250,25244493,27849149,30453805,23500000]\r\n",
        "JoeJohnson_Salary = [12000000,12744189,13488377,14232567,14976754,16324500,18038573,19752645,21466718,23180790]\r\n",
        "LeBronJames_Salary = [4621800,5828090,13041250,14410581,15779912,14500000,16022500,17545000,19067500,20644400]\r\n",
        "CarmeloAnthony_Salary = [3713640,4694041,13041250,14410581,15779912,17149243,18518574,19450000,22407474,22458000]\r\n",
        "DwightHoward_Salary = [4493160,4806720,6061274,13758000,15202590,16647180,18091770,19536360,20513178,21436271]\r\n",
        "ChrisBosh_Salary = [3348000,4235220,12455000,14410581,15779912,14500000,16022500,17545000,19067500,20644400]\r\n",
        "ChrisPaul_Salary = [3144240,3380160,3615960,4574189,13520500,14940153,16359805,17779458,18668431,20068563]\r\n",
        "KevinDurant_Salary = [0,0,4171200,4484040,4796880,6053663,15506632,16669630,17832627,18995624]\r\n",
        "DerrickRose_Salary = [0,0,0,4822800,5184480,5546160,6993708,16402500,17632688,18862875]\r\n",
        "DwayneWade_Salary = [3031920,3841443,13041250,14410581,15779912,14200000,15691000,17182000,18673000,15000000]\r\n",
        "#Matrix\r\n",
        "Salary = np.array([KobeBryant_Salary, JoeJohnson_Salary, LeBronJames_Salary, CarmeloAnthony_Salary, DwightHoward_Salary, ChrisBosh_Salary, ChrisPaul_Salary, KevinDurant_Salary, DerrickRose_Salary, DwayneWade_Salary])\r\n",
        "\r\n",
        "#Games \r\n",
        "KobeBryant_G = [80,77,82,82,73,82,58,78,6,35]\r\n",
        "JoeJohnson_G = [82,57,82,79,76,72,60,72,79,80]\r\n",
        "LeBronJames_G = [79,78,75,81,76,79,62,76,77,69]\r\n",
        "CarmeloAnthony_G = [80,65,77,66,69,77,55,67,77,40]\r\n",
        "DwightHoward_G = [82,82,82,79,82,78,54,76,71,41]\r\n",
        "ChrisBosh_G = [70,69,67,77,70,77,57,74,79,44]\r\n",
        "ChrisPaul_G = [78,64,80,78,45,80,60,70,62,82]\r\n",
        "KevinDurant_G = [35,35,80,74,82,78,66,81,81,27]\r\n",
        "DerrickRose_G = [40,40,40,81,78,81,39,0,10,51]\r\n",
        "DwayneWade_G = [75,51,51,79,77,76,49,69,54,62]\r\n",
        "#Matrix\r\n",
        "Games = np.array([KobeBryant_G, JoeJohnson_G, LeBronJames_G, CarmeloAnthony_G, DwightHoward_G, ChrisBosh_G, ChrisPaul_G, KevinDurant_G, DerrickRose_G, DwayneWade_G])\r\n",
        "\r\n",
        "#Minutes Played\r\n",
        "KobeBryant_MP = [3277,3140,3192,2960,2835,2779,2232,3013,177,1207]\r\n",
        "JoeJohnson_MP = [3340,2359,3343,3124,2886,2554,2127,2642,2575,2791]\r\n",
        "LeBronJames_MP = [3361,3190,3027,3054,2966,3063,2326,2877,2902,2493]\r\n",
        "CarmeloAnthony_MP = [2941,2486,2806,2277,2634,2751,1876,2482,2982,1428]\r\n",
        "DwightHoward_MP = [3021,3023,3088,2821,2843,2935,2070,2722,2396,1223]\r\n",
        "ChrisBosh_MP = [2751,2658,2425,2928,2526,2795,2007,2454,2531,1556]\r\n",
        "ChrisPaul_MP = [2808,2353,3006,3002,1712,2880,2181,2335,2171,2857]\r\n",
        "KevinDurant_MP = [1255,1255,2768,2885,3239,3038,2546,3119,3122,913]\r\n",
        "DerrickRose_MP = [1168,1168,1168,3000,2871,3026,1375,0,311,1530]\r\n",
        "DwayneWade_MP = [2892,1931,1954,3048,2792,2823,1625,2391,1775,1971]\r\n",
        "#Matrix\r\n",
        "MinutesPlayed = np.array([KobeBryant_MP, JoeJohnson_MP, LeBronJames_MP, CarmeloAnthony_MP, DwightHoward_MP, ChrisBosh_MP, ChrisPaul_MP, KevinDurant_MP, DerrickRose_MP, DwayneWade_MP])\r\n",
        "\r\n",
        "#Field Goals\r\n",
        "KobeBryant_FG = [978,813,775,800,716,740,574,738,31,266]\r\n",
        "JoeJohnson_FG = [632,536,647,620,635,514,423,445,462,446]\r\n",
        "LeBronJames_FG = [875,772,794,789,768,758,621,765,767,624]\r\n",
        "CarmeloAnthony_FG = [756,691,728,535,688,684,441,669,743,358]\r\n",
        "DwightHoward_FG = [468,526,583,560,510,619,416,470,473,251]\r\n",
        "ChrisBosh_FG = [549,543,507,615,600,524,393,485,492,343]\r\n",
        "ChrisPaul_FG = [407,381,630,631,314,430,425,412,406,568]\r\n",
        "KevinDurant_FG = [306,306,587,661,794,711,643,731,849,238]\r\n",
        "DerrickRose_FG = [208,208,208,574,672,711,302,0,58,338]\r\n",
        "DwayneWade_FG = [699,472,439,854,719,692,416,569,415,509]\r\n",
        "#Matrix\r\n",
        "FieldGoals  = np.array([KobeBryant_FG, JoeJohnson_FG, LeBronJames_FG, CarmeloAnthony_FG, DwightHoward_FG, ChrisBosh_FG, ChrisPaul_FG, KevinDurant_FG, DerrickRose_FG, DwayneWade_FG])\r\n",
        "\r\n",
        "#Field Goal Attempts\r\n",
        "KobeBryant_FGA = [2173,1757,1690,1712,1569,1639,1336,1595,73,713]\r\n",
        "JoeJohnson_FGA = [1395,1139,1497,1420,1386,1161,931,1052,1018,1025]\r\n",
        "LeBronJames_FGA = [1823,1621,1642,1613,1528,1485,1169,1354,1353,1279]\r\n",
        "CarmeloAnthony_FGA = [1572,1453,1481,1207,1502,1503,1025,1489,1643,806]\r\n",
        "DwightHoward_FGA = [881,873,974,979,834,1044,726,813,800,423]\r\n",
        "ChrisBosh_FGA = [1087,1094,1027,1263,1158,1056,807,907,953,745]\r\n",
        "ChrisPaul_FGA = [947,871,1291,1255,637,928,890,856,870,1170]\r\n",
        "KevinDurant_FGA = [647,647,1366,1390,1668,1538,1297,1433,1688,467]\r\n",
        "DerrickRose_FGA = [436,436,436,1208,1373,1597,695,0,164,835]\r\n",
        "DwayneWade_FGA = [1413,962,937,1739,1511,1384,837,1093,761,1084]\r\n",
        "#Matrix\r\n",
        "FieldGoalAttempts = np.array([KobeBryant_FGA, JoeJohnson_FGA, LeBronJames_FGA, CarmeloAnthony_FGA, DwightHoward_FGA, ChrisBosh_FGA, ChrisPaul_FGA, KevinDurant_FGA, DerrickRose_FGA, DwayneWade_FGA])\r\n",
        "\r\n",
        "#Points\r\n",
        "KobeBryant_PTS = [2832,2430,2323,2201,1970,2078,1616,2133,83,782]\r\n",
        "JoeJohnson_PTS = [1653,1426,1779,1688,1619,1312,1129,1170,1245,1154]\r\n",
        "LeBronJames_PTS = [2478,2132,2250,2304,2258,2111,1683,2036,2089,1743]\r\n",
        "CarmeloAnthony_PTS = [2122,1881,1978,1504,1943,1970,1245,1920,2112,966]\r\n",
        "DwightHoward_PTS = [1292,1443,1695,1624,1503,1784,1113,1296,1297,646]\r\n",
        "ChrisBosh_PTS = [1572,1561,1496,1746,1678,1438,1025,1232,1281,928]\r\n",
        "ChrisPaul_PTS = [1258,1104,1684,1781,841,1268,1189,1186,1185,1564]\r\n",
        "KevinDurant_PTS = [903,903,1624,1871,2472,2161,1850,2280,2593,686]\r\n",
        "DerrickRose_PTS = [597,597,597,1361,1619,2026,852,0,159,904]\r\n",
        "DwayneWade_PTS = [2040,1397,1254,2386,2045,1941,1082,1463,1028,1331]\r\n",
        "#Matrix\r\n",
        "Points = np.array([KobeBryant_PTS, JoeJohnson_PTS, LeBronJames_PTS, CarmeloAnthony_PTS, DwightHoward_PTS, ChrisBosh_PTS, ChrisPaul_PTS, KevinDurant_PTS, DerrickRose_PTS, DwayneWade_PTS])             \r\n",
        "                  "
      ],
      "execution_count": 2,
      "outputs": []
    },
    {
      "cell_type": "code",
      "metadata": {
        "colab": {
          "base_uri": "https://localhost:8080/"
        },
        "id": "An1BzlWrxKmH",
        "outputId": "928307e1-6742-44d1-f07c-7200552869d7"
      },
      "source": [
        "Points[Pdict[\"KobeBryant\"]]"
      ],
      "execution_count": 3,
      "outputs": [
        {
          "output_type": "execute_result",
          "data": {
            "text/plain": [
              "array([2832, 2430, 2323, 2201, 1970, 2078, 1616, 2133,   83,  782])"
            ]
          },
          "metadata": {
            "tags": []
          },
          "execution_count": 3
        }
      ]
    },
    {
      "cell_type": "code",
      "metadata": {
        "id": "1qnnT5Y4G6s7"
      },
      "source": [
        ""
      ],
      "execution_count": 3,
      "outputs": []
    },
    {
      "cell_type": "markdown",
      "metadata": {
        "id": "GTfkxEPEG9Bk"
      },
      "source": [
        "#Visualizations (Data Analysis and Visualization)"
      ]
    },
    {
      "cell_type": "code",
      "metadata": {
        "colab": {
          "base_uri": "https://localhost:8080/",
          "height": 292
        },
        "id": "h7ACIH2PHBl8",
        "outputId": "9084e914-3a90-4f58-a5cc-3c04bd5331f7"
      },
      "source": [
        "import numpy as np\r\n",
        "import matplotlib.pyplot as plt\r\n",
        "#%matplotlib inline  #Used in Jupyter Notebook Enforces the plots to be inside the plot \r\n",
        "\r\n",
        "# Configures chart dimensions\r\n",
        "plt.rcParams['figure.figsize'] = 8,4                                    \r\n",
        "\r\n",
        "# Plot with color red, with dash line styling with square markers , and labeled with Players\r\n",
        "plt.plot(Salary[Pdict[\"KobeBryant\"]], c='Red',ls=\"--\", marker=\"s\", label=Players[Pdict[\"KobeBryant\"]])\r\n",
        "plt.plot(Salary[1], c='Blue',ls=\"-.\", marker=\"^\", label=Players[1])\r\n",
        "plt.plot(Salary[2], c='Green',ls=\"-.\", marker=\"o\", label=Players[2])\r\n",
        "\r\n",
        "#Introducing a Legend to your Plot\r\n",
        "plt.legend(loc=\"upper left\", bbox_to_anchor=(1,1))\r\n",
        "\r\n",
        "# Replaces x-axis numbers with Seasons data, using the range function\r\n",
        "plt.xticks(list(range(0,10)), Seasons, rotation=\"vertical\")\r\n",
        "\r\n",
        "#This removes some extra info from the plot e.g. <matplotlib.axis.XTick at 0x7feef5213ba8>\r\n",
        "plt.show()\r\n"
      ],
      "execution_count": 41,
      "outputs": [
        {
          "output_type": "display_data",
          "data": {
            "image/png": "[encoded data removed]",
            "text/plain": [
              "<Figure size 576x288 with 1 Axes>"
            ]
          },
          "metadata": {
            "tags": [],
            "needs_background": "light"
          }
        }
      ]
    },
    {
      "cell_type": "markdown",
      "metadata": {
        "id": "WqJK8fueh8DS"
      },
      "source": [
        "#Defining Functions"
      ]
    },
    {
      "cell_type": "code",
      "metadata": {
        "id": "Nx1-mjkTh7mp"
      },
      "source": [
        "def myplot_function(playerlist):\r\n",
        "  for name in playerlist:\r\n",
        "    plt.plot(Games[Pdict[name]], c='Red',ls=\"--\", marker=\"s\", label=name)\r\n",
        "  plt.legend(loc=\"upper left\", bbox_to_anchor=(1,1))\r\n",
        "  plt.xticks(list(range(0,10)), Seasons, rotation=\"vertical\")\r\n",
        "  plt.show()"
      ],
      "execution_count": 49,
      "outputs": []
    },
    {
      "cell_type": "code",
      "metadata": {
        "colab": {
          "base_uri": "https://localhost:8080/",
          "height": 281
        },
        "id": "MlEdytxwjsjq",
        "outputId": "15916cb0-7b14-44bb-a873-f010070c37c3"
      },
      "source": [
        "myplot_function([\"KobeBryant\"])"
      ],
      "execution_count": 55,
      "outputs": [
        {
          "output_type": "display_data",
          "data": {
            "image/png": "[encoded data removed]",
            "text/plain": [
              "<Figure size 576x288 with 1 Axes>"
            ]
          },
          "metadata": {
            "tags": [],
            "needs_background": "light"
          }
        }
      ]
    },
    {
      "cell_type": "code",
      "metadata": {
        "colab": {
          "base_uri": "https://localhost:8080/"
        },
        "id": "3jbQqLCSk1NU",
        "outputId": "69133ade-8deb-4ada-f968-e4d65601c52f"
      },
      "source": [
        "Games[Pdict[\"KobeBryant\"]]"
      ],
      "execution_count": 53,
      "outputs": [
        {
          "output_type": "execute_result",
          "data": {
            "text/plain": [
              "array([80, 77, 82, 82, 73, 82, 58, 78,  6, 35])"
            ]
          },
          "metadata": {
            "tags": []
          },
          "execution_count": 53
        }
      ]
    }
  ]
}